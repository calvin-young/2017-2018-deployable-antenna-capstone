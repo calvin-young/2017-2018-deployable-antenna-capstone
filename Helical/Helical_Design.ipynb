{
 "cells": [
  {
   "cell_type": "markdown",
   "metadata": {},
   "source": [
    "(This should probably just go into the Google drive in a design document)"
   ]
  },
  {
   "cell_type": "markdown",
   "metadata": {},
   "source": [
    "# Antenna Design\n",
    "## Constraint & Deployment Mechanisms\n",
    "#### Tethers\n",
    "Four long tethers connect the cap to the structure.  They are in tension when the helix is fully extended.  Note that the helix should still be in compression at its fully deployed state in order to maintain tension in the tethers.  This provides lateral rigidity and damps vibrations of the deployed antenna.  Monofilament won't work, check out something like [Filistrand wire](http://www.portablemasts.com.au/debeglass/debe.htm) or something like that.  The tether should probably be fixed to the helix at every pass - i.e. not just at the ends.  \n",
    "#### Wound-Stowage\n",
    "We could potentially stow the antenna in a spiral (as if it was conical) by winding it up around the Z axis.  Then when it deploys it can spring out to its regular conical shape.\n",
    "\n",
    "Compressing a helix induces torsional stress in the material.  Winding it as it is compressed is deforming it like a torsion spring which imparts a bending stress in the material.  So we'll need to calculate the principle stresses... \n",
    "\n",
    "In order to do that, we need to figure out how much bending stress we'll be adding by winding the coil.  \n",
    "#### XY Constraints\n",
    "If we are dealing with wire as fine as 24 AWG then we are going to need to worry about buckling when constraining the Z axis.  Fully compressing a spring of this aspect ratio is going to be tricky - even in static conditions.  Throw in some vibrations and you can fuhgetaboutit.  24 AWG wire compresses down to just over 8 mm.  We could just have a little double-annular extrusion that keeps the wire nestled exactly how we want it.  It could have little gaps to fit the loose tethers.\n",
    "\n",
    "Do we need to worry about buckling in its deployed state?  I have a feeling that attaching the tether at each turn will minimize the need...\n",
    "## Groundplane\n",
    "#### Square Ground Plane\n",
    "The ground plane diameter is bound by $ 0.8 \\lambda < D < 1.1 \\lambda $.  Exceeding the upper limit increases sidelobe levels resulting in less clean radiation patterns (avoid conflicting variable names)\n",
    "#### Cone\n",
    "???\n",
    "## Contingency Ideas\n",
    "These are not necessarily ideas to pursue at full speed - rather, they are ideas that might be able to get us out of a bind.\n",
    "#### Quadrifilar Support Helix\n",
    "The second helix in a quadrifilar design could be made out of a more resilient, non-conductive material to provide more deployment force.  Connecting the two helices at their ends would improve rigidity.\n",
    "#### External Support Helix\n",
    "Similar to the above idea.  The support helix could have a much larger diameter - again, out of more resilient, non-conductive material.  This would alleviate potential issues caused by too much strain being put on the helix (as a compression spring). \n",
    "#### Truncated Cone\n",
    "Adding a conductive cone around the base of the helix will improve its performance.  This can be made of some thin foil or mesh.  Note that the failure of this mechanism would not endanger the mission at all; it is purely for bonus points and should be pursued if we have the time.  The optimal parameters (which would definitely not fit) are as follows:\n",
    "\n",
    "$ D_1 = 0.75 \\lambda $, $ D_2 = 2.5 \\lambda $, $ h = 0.5 \\lambda $\n",
    "\n",
    "In reality, we will either have one of the following:\n",
    "* Static cone that fits in the 17.6 mm space between the end card and the top of the rails.  The large diameter will fit circumscribed inside the rails.\n",
    "* Deployable cone that compresses into the 6.5 mm space on the end cap. The top, larger diameter could be fixed to the tethers and be deployed in the same action as the helix. \n",
    "\n",
    "## Considerations\n",
    "- [Stress relaxation](https://en.wikipedia.org/wiki/Stress_relaxation) needs to be considered if we're relying on the helix as a compression spring.  The helix can be made longer than needed and heat treated to avoid potential issues.\n",
    "- Burn wires should be used in a way that does not subject them to excessive vibration loads.  They can be rigged up in a way that avoids unnecessary additional stress.  We do not want them to prematurely deploy or be any stronger than needed.\n",
    "    - Example: The wire is wrapped around the circumference of the helix, restraining four hinged mechanisms loaded with torsion springs.  Vibrations causing lateral deformation should be uniform (i.e. all mechanisms should be displaced in the same direction at once) which should not put any additional stress on the burn wire. See Figure 10 of [this paper](https://drive.google.com/open?id=1MxdJtdwylCSzvwULur7TAVtvX_Ytf-ux).\n",
    "- The surface of the wire needs to be properly cleaned before soldering.  Pre-coat with pure tin or tin-lead solder if this is not possible.  60/40 or 50/50 solder is recommended.  "
   ]
  },
  {
   "cell_type": "markdown",
   "metadata": {},
   "source": [
    "# Manufacturing Techniques\n",
    "## Lathe\n",
    "Springs can be made relatively easily with the use of a lathe.  It conveniently has the ability to set the feed rate which is generally used to cut threads on a rod.  By making a custom tool we can use this feature to wind a coil around a mandrel.  There are plenty of [YouTube videos](https://www.youtube.com/watch?v=b06f-zBFXOM) demonstrating this technique.  The only question is whether the lathe will have a long enough working area to acommodate an un-set free-length helix with some margin."
   ]
  },
  {
   "cell_type": "markdown",
   "metadata": {},
   "source": [
    "# Archived Design Decisions\n",
    "## Abandoned Ideas\n",
    "#### Tennis Ball Canister Lid\n",
    "The helix is compressed by a 'lid' that is tied down to the structure by burn wire.  Given the fact that we don't want to: obscure the camera's view; add unnecessary weight... I (Calvin) don't really see the point of using a cap - the tethers can be attached directly to the antenna (at each pass or just at the terminus).  \n",
    "#### Tapered Helix\n",
    "Ultimately, a reasonable tapered helix can't do what we want it to do.  A nominal tapered design introduces an undesreable bandwidth and reduces the gain below a level that we're comfortable with... and even then it does not allow the coil to compress flat - the change in radius per turn is not greater than a reasonable wire diameter.  Besides - it looks like we'll be able to twist the helix while compressing it if we need it to pack flat.  See Wound-Stowage.  \n",
    "\n",
    "#### Set Removal\n",
    "Shigley recommends that a spring be designed such that the free length is reduced to about 70-90% of its original value after the set removal process.  The length required to achieve this reduction is difficult to analyze.  The deflection needed to induce plastic deformation at full compression is found using the factor of safety.\n",
    "\n",
    "$ Minimum\\ Deflection\\ for\\ Plastic\\ Deformation\\ (M): y_p = yn_s $\n",
    "\n",
    "Analyzing 24 AWG wire yields a value that is far too high for practical purposes.  Unless a thicker wire gauge is chosen, the spring will not be set."
   ]
  },
  {
   "cell_type": "code",
   "execution_count": 4,
   "metadata": {},
   "outputs": [
    {
     "name": "stdout",
     "output_type": "stream",
     "text": [
      "Variable            Symbol       Value  Unit\n",
      "------------------  --------  --------  ------\n",
      "Minimum Deflection  y_p       1.503215  M\n"
     ]
    }
   ],
   "source": [
    "from tabulate import tabulate \n",
    "\n",
    "# Values from 24 AWG Beryllium Copper Wire\n",
    "y = 0.448736\n",
    "n_s = 3.349887\n",
    "\n",
    "# Calculations\n",
    "y_p = y*n_s\n",
    "\n",
    "# Print Table\n",
    "table = []\n",
    "headers = [\"Variable\", \"Symbol\", \"Value\", \"Unit\"]\n",
    "table.append([\"Minimum Deflection\", \"y_p\", y_p, \"M\"])\n",
    "print(tabulate(table, headers, floatfmt=\".6f\"))"
   ]
  }
 ],
 "metadata": {
  "kernelspec": {
   "display_name": "Python 3",
   "language": "python",
   "name": "python3"
  },
  "language_info": {
   "codemirror_mode": {
    "name": "ipython",
    "version": 3
   },
   "file_extension": ".py",
   "mimetype": "text/x-python",
   "name": "python",
   "nbconvert_exporter": "python",
   "pygments_lexer": "ipython3",
   "version": "3.6.4"
  }
 },
 "nbformat": 4,
 "nbformat_minor": 2
}
