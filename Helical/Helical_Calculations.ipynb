{
 "cells": [
  {
   "cell_type": "markdown",
   "metadata": {
    "collapsed": true
   },
   "source": [
    "# Antenna Design Calculations\n",
    "#### RF Characteristics\n",
    "The operating frequency is defined by the WiFi Channel 802.11b standard.\n",
    "\n",
    "$ Frequency\\ (GHz): f = 2.412 $\n",
    "\n",
    "$ Wavelength\\ (m): \\lambda = \\frac{c}{f} $"
   ]
  },
  {
   "cell_type": "code",
   "execution_count": 1,
   "metadata": {},
   "outputs": [
    {
     "name": "stdout",
     "output_type": "stream",
     "text": [
      "Variable    Symbol       Value  Unit\n",
      "----------  --------  --------  ------\n",
      "Frequency   f         2.412000  GHz\n",
      "Wavelength  lamb      0.124292  m\n",
      "\n",
      "Note: Frequency is stored in units of Hz but displayed in GHz for readability.\n"
     ]
    }
   ],
   "source": [
    "import math\n",
    "from tabulate import tabulate\n",
    "\n",
    "# Constants\n",
    "c = 299792458\n",
    "f = 2.412*1e9\n",
    "\n",
    "# Calculations\n",
    "lamb = c/f\n",
    "\n",
    "# Print Table\n",
    "table = []\n",
    "headers = [\"Variable\", \"Symbol\", \"Value\", \"Unit\"]\n",
    "table.append([\"Frequency\", \"f\", f/1e9, \"GHz\"])\n",
    "table.append([\"Wavelength\", \"lamb\", lamb, \"m\"])\n",
    "print(tabulate(table, headers, floatfmt=\".6f\"))\n",
    "print(\"\\nNote: Frequency is stored in units of Hz but displayed in GHz for readability.\")"
   ]
  },
  {
   "cell_type": "markdown",
   "metadata": {},
   "source": [
    "#### Helical Antenna Parameters\n",
    "The antenna's gain is a function of the number of turns in the helix.  The desired number will depend on experimental results, but a good starting point is $ n = 16 $.  The helix radius and pitch angle ($ 11 < r < 14 $ degrees optimal, according to Shiva) are based on MATLAB simulations that ensure the resultant parameters stay within the prescribed bounds.  \n",
    "\n",
    "$ Number\\ of\\ Turns: n = 16 $\n",
    "\n",
    "$ Radius\\ (m): r = 0.019894 $\n",
    "\n",
    "$ Pitch\\ Angle\\ (rad): \\alpha = 13^\\circ =  0.226893 $\n",
    "\n",
    "Basic design parameters are calculated using equations found in Chapter *X* of the ARRL Antenna Handbook.  It is recommended to keep the helix circumference within $ 0.75 \\lambda < C_\\lambda < 1.33 \\lambda $ and the pitch between $ 0.2126 C_\\lambda < S_\\lambda < 0.2867 C_\\lambda $.  These values will be checked in the code below.  \n",
    "\n",
    "$ Circumference\\ (m): C_\\lambda = 2\\pi r $\n",
    "\n",
    "$ Pitch\\ (m): S_\\lambda = C_\\lambda tan (\\alpha) $\n",
    "\n",
    "With these parameters defined, theoretical values for the gain are calculated.  A target gain of $ G \\simeq 16 $ is desired.\n",
    "\n",
    "$ Gain\\ (dBi): G = 11.8 + 10 \\log(2 n C_\\lambda S_\\lambda) $ *Note: Something must be wrong with this equation - it is spitting out terrible numbers.*"
   ]
  },
  {
   "cell_type": "code",
   "execution_count": 2,
   "metadata": {},
   "outputs": [
    {
     "name": "stdout",
     "output_type": "stream",
     "text": [
      "Variable       Symbol        Value  Unit\n",
      "-------------  --------  ---------  ------\n",
      "Turns          n         16.000000  -\n",
      "Radius         r          0.019894  m\n",
      "Pitch Angle    alpha      0.226893  rad\n",
      "Circumference  C_lamb     0.124998  m\n",
      "Pitch          S_lamb     0.028858  m\n",
      "Gain           G         -9.790916  dBi\n",
      "\n",
      "WARNING: Gain is short by 25.791 dBi!\n"
     ]
    }
   ],
   "source": [
    "# Constants\n",
    "n = 16\n",
    "r = 0.019894\n",
    "alpha = 0.226893\n",
    "G_target = 16\n",
    "\n",
    "# Calculations\n",
    "C_lamb = 2*math.pi*r\n",
    "C_lamb_lo = 0.75*lamb\n",
    "C_lamb_hi = 1.33*lamb\n",
    "S_lamb = math.tan(alpha)*C_lamb\n",
    "G = 11.8 + 10*math.log(2*n*C_lamb*S_lamb)\n",
    "\n",
    "# Print Table\n",
    "table = []\n",
    "table.append([\"Turns\", \"n\", n, \"-\"])\n",
    "table.append([\"Radius\", \"r\", r, \"m\"])\n",
    "table.append([\"Pitch Angle\", \"alpha\", alpha, \"rad\"])\n",
    "table.append([\"Circumference\", \"C_lamb\", C_lamb, \"m\"])\n",
    "table.append([\"Pitch\", \"S_lamb\", S_lamb, \"m\"])\n",
    "table.append([\"Gain\", \"G\", G, \"dBi\"])\n",
    "print(tabulate(table, headers, floatfmt=\".6f\"))\n",
    "\n",
    "# Check Results\n",
    "if C_lamb < C_lamb_lo or C_lamb > C_lamb_hi:\n",
    "    print(\"\\nWARNING: Circumference is out of spec!\")\n",
    "if S_lamb < 0.2126*C_lamb or S_lamb > 0.2867*C_lamb:\n",
    "    print(\"\\nWARNING: Pitch is out of spec!\")\n",
    "if G < G_target:\n",
    "    print(\"\\nWARNING: Gain is short by {:.3f} dBi!\".format(G_target - G))"
   ]
  },
  {
   "cell_type": "markdown",
   "metadata": {},
   "source": [
    "# Spring Design Calculations\n",
    "#### Warning\n",
    "These calculations analyze the spring forces between its fully compressed length and its free length *assuming that the free length is equal to its fully deployed length*.  In reality, we will manufacture the spring as long as possible so that when fully deployed (and constrained by the tethers) the spring will still be nominally compressed, providing some tension in the tethers, and ensuring that it deploys to the desired length.\n",
    "#### Dimensional Parameters\n",
    "Wire thickness has little effect on the RF characteristics of the antenna and will be chosen based on mechanical constraints.  \n",
    "It is recommended to use wire diameters between $ 0.006 \\lambda < d < 0.05 \\lambda $.  Wire thicknesses below the minimum suggested value are possible but ought to be tested.  A range of reasonable wire gauges is presented in the table below.\n",
    "\n",
    "\\begin{array}{ l l }\n",
    "\\hline AWG & Diameter\\ (mm) \\\\\\hline\n",
    "  18 & 1.024 \\\\\\hline\n",
    "  19 & 0.912 \\\\\\hline\n",
    "  20 & 0.812 \\\\\\hline\n",
    "  21 & 0.723 \\\\\\hline\n",
    "  22 & 0.644 \\\\\\hline\n",
    "  23 & 0.573 \\\\\\hline\n",
    "  24 & 0.511 \\\\\\hline\n",
    "\\end{array}\n",
    "\n",
    "This analysis will focus on 20 AWG but a range of values ought to be tested.\n",
    "\n",
    "$ Wire\\ Thickness\\ (m): d = 0.000511 $\n",
    "\n",
    "With that wire thickness defined, the rest of the spring's dimensional parameters are defined.\n",
    "\n",
    "$ Mean\\ Coil\\ Diameter\\ (m): D = 2r $\n",
    "\n",
    "$ Outer\\ Coil\\ Diameter\\ (m): D_o = D + d $\n",
    "\n",
    "$ Inner\\ Coil\\ Diameter\\ (m): D_i = D - d $\n",
    "\n",
    "$ Pitch\\ (m): p = S_\\lambda $\n",
    "\n",
    "The ratio of the spring's mean diameter to its wire thickness is defined as the spring index.  Suggested values are in the range of $ 4 < C_i < 12 $ yet the only cited downside for exceeding the maximum value is an increased tendency of the spring to become tangled.\n",
    "\n",
    "$ Spring\\ Index: C_i = \\frac{D}{d} $\n",
    "\n"
   ]
  },
  {
   "cell_type": "code",
   "execution_count": 3,
   "metadata": {
    "scrolled": true
   },
   "outputs": [
    {
     "name": "stdout",
     "output_type": "stream",
     "text": [
      "Variable        Symbol        Value  Unit\n",
      "--------------  --------  ---------  ------\n",
      "Wire Thickness  d          0.000812  m\n",
      "Mean Diameter   D          0.039788  m\n",
      "Outer Diameter  D_o        0.040600  m\n",
      "Inner Diameter  D_i        0.038976  m\n",
      "Pitch           p          0.028858  m\n",
      "Spring Index    C_i       49.000000  -\n",
      "\n",
      "WARNING: Spring index is out of spec!\n"
     ]
    }
   ],
   "source": [
    "# Constants\n",
    "d = 0.812/1e3 # 20 AWG\n",
    "#d = 0.644/1e3 # 22 AWG\n",
    "#d = 0.511/1e3 # 24 AWG\n",
    "\n",
    "# Calculations\n",
    "D = 2*r\n",
    "D_o = D + d\n",
    "D_i = D - d\n",
    "p = S_lamb\n",
    "C_i = D/d\n",
    "C_i_lo = 4\n",
    "C_i_hi = 12\n",
    "\n",
    "# Print Table\n",
    "table = []\n",
    "table.append([\"Wire Thickness\", \"d\", d, \"m\"])\n",
    "table.append([\"Mean Diameter\", \"D\", D, \"m\"])\n",
    "table.append([\"Outer Diameter\", \"D_o\", D_o, \"m\"])\n",
    "table.append([\"Inner Diameter\", \"D_i\", D_i, \"m\"])\n",
    "table.append([\"Pitch\", \"p\", p, \"m\"])\n",
    "table.append([\"Spring Index\", \"C_i\", C_i, \"-\"])\n",
    "print(tabulate(table, headers, floatfmt=\".6f\"))\n",
    "\n",
    "# Check Results\n",
    "if C_i < C_i_lo or C_i > C_i_hi:\n",
    "    print(\"\\nWARNING: Spring index is out of spec!\")"
   ]
  },
  {
   "cell_type": "markdown",
   "metadata": {},
   "source": [
    "#### Material Properties\n",
    "Further analysis requires the specification of a material.  Beryllium copper has been chosen for its excellent electrical properties and common use as a spring material.  Actual tensile strengths of wire are highly depended on wire thickness and it is not wise to use generic material property values when dealing with such fine dimensions.  Table 10-5 in Chapter 10-6 of Shigley's  Mechanical Engineering Design lists values for beryllium copper wire.  Other sources list different values.  This will ultimately be updated with the supplier's numbers.  \n",
    "\n",
    "$ Modulus\\ of\\ Elasticity\\ (GPa): E \\simeq 117.2 $\n",
    "\n",
    "$ Shear\\ Modulus\\ of\\ Elasticity\\ (GPa): G \\simeq 44.8 $\n",
    "\n",
    "#### Static Loading Conditions\n",
    "The stowed antenna must compress to less than 6 mm (or 17.6 mm if needed).  Unless it is wound and compressed flat (see *Wound Stowage* in the Helical Design notebook), the spring will be compressed to solid length prior to deployment.  Its \"free length\" will be the length to which it is fully deployed - more on this later.  \n",
    "\n",
    "$ Free\\ Length\\ (m): L_0 = pn + d $\n",
    "\n",
    "$ Solid\\ Length\\ (m): L_s = d(n + 1) $\n",
    "\n",
    "The deflection of the spring is calculated as the difference between these lengths.\n",
    "\n",
    "$ Deflection\\ (m): y = L_0 - L_s $\n",
    "\n",
    "With this defined, the force exterted by the fully compressed spring is calculated as function of the spring rate.\n",
    "\n",
    "$ Spring\\ Rate\\ (N/m): k = \\frac{d^4 G}{8D^3 n} $\n",
    "\n",
    "$ Spring\\ Force\\ (N): F = ky $"
   ]
  },
  {
   "cell_type": "code",
   "execution_count": 4,
   "metadata": {},
   "outputs": [
    {
     "name": "stdout",
     "output_type": "stream",
     "text": [
      "Variable         Symbol         Value  Unit\n",
      "---------------  --------  ----------  ------\n",
      "Young's Modulus  E         117.200000  GPa\n",
      "Shear Modulus    G          44.800000  GPa\n",
      "Free Length      L_0         0.462540  m\n",
      "Solid Length     L_s         0.013804  m\n",
      "Deflection       y           0.448736  m\n",
      "Spring Rate      k           2.415660  N/m\n",
      "Spring Force     F           1.083994  N\n",
      "\n",
      "Note: Modulus values are stored in units of Pa but displayed in GPa for readability.\n",
      "\n",
      "The compressed length is too large for the end cap - but will fit in the end card.\n"
     ]
    }
   ],
   "source": [
    "# Constants\n",
    "E = 117.2*1e9\n",
    "G = 44.8*1e9\n",
    "z_1 = 0.006\n",
    "z_2 = 0.017\n",
    "\n",
    "# Calculations\n",
    "L_0 = p*n + d\n",
    "L_s = d*(n+1)\n",
    "y = L_0 - L_s\n",
    "k = (d**4*G)/(8*D**3*n)\n",
    "F = k*y\n",
    "\n",
    "table = []\n",
    "table.append([\"Young's Modulus\", \"E\", E/1e9, \"GPa\"])\n",
    "table.append([\"Shear Modulus\", \"G\", G/1e9, \"GPa\"])\n",
    "table.append([\"Free Length\", \"L_0\", L_0, \"m\"])\n",
    "table.append([\"Solid Length\", \"L_s\", L_s, \"m\"])\n",
    "table.append([\"Deflection\", \"y\", y, \"m\"])\n",
    "table.append([\"Spring Rate\", \"k\", k, \"N/m\"])\n",
    "table.append([\"Spring Force\", \"F\", F, \"N\"])\n",
    "print(tabulate(table, headers, floatfmt=\".6f\"))\n",
    "print(\"\\nNote: Modulus values are stored in units of Pa but displayed in GPa for readability.\")\n",
    "\n",
    "if L_s > z_1:\n",
    "    if L_s > z_2:\n",
    "        print(\"\\nWARNING: The compressed length is too large for the end card - coil must be wound!\")\n",
    "    else:\n",
    "        print(\"\\nThe compressed length is too large for the end cap - but will fit in the end card.\")"
   ]
  },
  {
   "cell_type": "markdown",
   "metadata": {},
   "source": [
    "####  Stress Analysis\n",
    "The maximum shear stress of a spring can be calculated using any number of correction factors.  Shigley uses a single one: the curvature correction factor $ K_B $.\n",
    "\n",
    "$ Curvature\\ Correction\\ Factor: K_B = \\frac{4C_i+2}{4C_i-3} $ \n",
    "\n",
    "The maximum shear stress \n",
    "\n",
    "$ Maximum\\ Shear\\ Stress\\ (GPa): \\tau = K_B \\frac{8FD}{\\pi d^3} $\n",
    "\n",
    "\n",
    "Material properties are dependent on a variety of factors including but not limited to:\n",
    "- Wire Diameter\n",
    "- Surface Treatment\n",
    "- Alloy Composition\n",
    "- Cold-Working\n",
    "- Tempering\n",
    "- Age Hardening\n",
    "- Time Compressed (Stress Relaxation)\n",
    "\n",
    "A wide range of values can be found from various sources.  Data will ultimately be sourced from the material supplier.  In the mean time, approximate values for cold-worked beryllium copper wire (source: NGK) will suffice.\n",
    "\n",
    "$ Yield\\ Strength\\ (GPa): S_{y} \\simeq 1.33 $\n",
    "\n",
    "$ Tensile\\ Strength\\ (GPa): S_{ut} \\simeq 1.41 $\n",
    "\n",
    "Table 10-5 of Shigley tabulates, among other material properties, the torsional yield strength of beryllium copper as a function of its ultimate tensilte strength. \n",
    "\n",
    "$ Yield\\ Strength\\ in\\ Torsion\\ (GPa): S_{sy} = 0.5S_T $\n",
    "\n",
    "If the maximum shear stress does not exceed the yield strength in torsion then the spring will not plastically deform when compressed between its free length and solid length.  The ratio of these values provides a factor of safety with a value of $ n_s > 1.2 $ being acceptable.\n",
    "\n",
    "$ Factor\\ of\\ Safety\\ (Solid\\ Height): n_s = \\frac{S_{sy}}{\\tau} $\n",
    "\n",
    "*(Am I missing anything?  See Shigley, Chapter 3.8 for details on the shear modulus of elasticity.)*"
   ]
  },
  {
   "cell_type": "code",
   "execution_count": 5,
   "metadata": {},
   "outputs": [
    {
     "name": "stdout",
     "output_type": "stream",
     "text": [
      "Variable                         Symbol       Value  Unit\n",
      "-------------------------------  --------  --------  ------\n",
      "Curvature Correction Factor      K_B       1.025907  -\n",
      "Largest Shear Stress             tau       0.210455  GPa\n",
      "Yield Strength                   S_y       1.330000  GPa\n",
      "Tensile Strength                 S_ut      1.410000  GPa\n",
      "Yield Strength in Torsion        S_sy      0.705000  GPa\n",
      "Factor of Safety (Solid Height)  n_s       3.349887  -\n",
      "\n",
      "Note: Stress values are stored in units of Pa but displayed in GPa for readability.\n"
     ]
    }
   ],
   "source": [
    "# Constants\n",
    "S_y = 1.33*1e9\n",
    "S_ut = 1.41*1e9\n",
    "\n",
    "# Calculations\n",
    "K_B = (4*C_i + 2)/(4*C_i - 3)\n",
    "tau = K_B*((8*F*D)/(math.pi*d**3))\n",
    "S_sy = 0.5*S_ut\n",
    "n_s = S_sy/tau\n",
    "\n",
    "# Print Table\n",
    "table = []\n",
    "table.append([\"Curvature Correction Factor\", \"K_B\", K_B, \"-\"])\n",
    "table.append([\"Largest Shear Stress\", \"tau\", tau/1e9, \"GPa\"])\n",
    "table.append([\"Yield Strength\", \"S_y\", S_y/1e9, \"GPa\"])\n",
    "table.append([\"Tensile Strength\", \"S_ut\", S_ut/1e9, \"GPa\"])\n",
    "table.append([\"Yield Strength in Torsion\", \"S_sy\", S_sy/1e9, \"GPa\"])\n",
    "table.append([\"Factor of Safety (Solid Height)\", \"n_s\", n_s, \"-\"])\n",
    "print(tabulate(table, headers, floatfmt=\".6f\"))\n",
    "print(\"\\nNote: Stress values are stored in units of Pa but displayed in GPa for readability.\")"
   ]
  },
  {
   "cell_type": "markdown",
   "metadata": {},
   "source": [
    "#### Free Length\n",
    "Previous analysis assumed that the spring will be fully deployed at its free length.  However, the spring will be compressed by support tethers (see *Tethers* in the Helical Design Notebook).  The additional length is calculated as a function of the desired force that is split between the four tethers.\n",
    "\n",
    "$ Tension\\ (N): F_t =\\ ??? $ *This value needs to be determined*\n",
    "\n",
    "$ Total\\ Length\\ (M): y_t = y + \\frac{4F_t}{k} $"
   ]
  },
  {
   "cell_type": "code",
   "execution_count": 6,
   "metadata": {},
   "outputs": [
    {
     "name": "stdout",
     "output_type": "stream",
     "text": [
      "Variable      Symbol       Value  Unit\n",
      "------------  --------  --------  ------\n",
      "Tension       F_t       1.000000  N\n",
      "Total Length  y_t       2.104598  M\n"
     ]
    }
   ],
   "source": [
    "# Constants\n",
    "F_t = 1\n",
    "\n",
    "# Calculations\n",
    "y_t = y + (4*F_t)/k\n",
    "\n",
    "# Print Table\n",
    "table = []\n",
    "table.append([\"Tension\", \"F_t\", F_t, \"N\"])\n",
    "table.append([\"Total Length\", \"y_t\", y_t, \"M\"])\n",
    "print(tabulate(table, headers, floatfmt=\".6f\"))"
   ]
  },
  {
   "cell_type": "markdown",
   "metadata": {},
   "source": [
    "# Conclusions\n",
    "Theoretical analysis of 24 AWG beryllium copper wire indicates that a spring of the dimensions prescribed by the antenna design can be fully compressed to its solid height without yielding.  Such a compressed spring would fit well within the allotted space if it is mounted on the end card.  "
   ]
  },
  {
   "cell_type": "markdown",
   "metadata": {},
   "source": [
    "# Next Steps\n",
    "#### Tether Analysis\n",
    "I'm assuming that the antenna will be slightly compressed by four tethers arranged around its circumferenced.  Let's do some static force analysis and figure out how much tension we need in order to keep the thing relatively rigid.  Alternatively, let's work backwards and just make the spring as long as we can on the lathe and see what kind of force that yields.  Should we limit ourselves to three tethers in order to increase the tension in each?  How does pinning the tether to each turn affect static analysis?  What do other teams do???\n",
    "#### Manufacturing\n",
    "- making on a lathe\n",
    "- manually measured spring back rates\n",
    "- add graphs and curve fit equations (generate in python?)\n",
    "- both diameter and pitch\n",
    "\n",
    "#### Wound Stowage Stress Analysis\n",
    "Let's incorporate the bending stresses caused by winding the spring into a spiral (see *Wound Stowage* in the Helical Design notebook).  If those stresses seem reasonable then we will need to look at compressing to a plane rather than the spring's solid height.\n",
    "\n",
    "#### Post-Manufacturing Heat Treatment\n",
    "\"Winding of the spring induces residual stresses through bending, but these are normal to the direction of the torsional working stresses in a coil spring.  Quite frequently in spring manufacture, they are relieved, after winding, by a mild thermal treatment.\"\n",
    "\n",
    "#### Stress Relaxation\n",
    "Apparently beryllium copper is resistant to stress relaxation.  It looks like most alloys retain 95% of their stress after being compressed for 1000 hours at room temperature.  Shiva will talk to professors for more insight into the problem before we dive into calculating or testing anything.\n",
    "\n",
    "#### Refine Values\n",
    "The following values should be updated with specifications from the material supplier:\n",
    "- Modulus of Elasticity\n",
    "- Shear Modulus of Elasticity\n",
    "- Yield Strength\n",
    "- Yield Strength in Torsion\n",
    "- Tensile Strength"
   ]
  }
 ],
 "metadata": {
  "kernelspec": {
   "display_name": "Python 3",
   "language": "python",
   "name": "python3"
  },
  "language_info": {
   "codemirror_mode": {
    "name": "ipython",
    "version": 3
   },
   "file_extension": ".py",
   "mimetype": "text/x-python",
   "name": "python",
   "nbconvert_exporter": "python",
   "pygments_lexer": "ipython3",
   "version": "3.6.4"
  }
 },
 "nbformat": 4,
 "nbformat_minor": 2
}
