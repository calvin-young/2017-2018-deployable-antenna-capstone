{
 "cells": [
  {
   "cell_type": "markdown",
   "metadata": {},
   "source": [
    "# Burnwire Experimentation\n",
    "### Background\n",
    "The deployable antenna systems are stowed with potential energy stored in compression and torsion springs.  A monofilament line prevents the antennas from deploying until a signal is received.  Current is fed through a resistive element which will heat up the monofilament past its glass transition temperature at which will cause the line to fail in tension, releasing the springs.  \n",
    "\n",
    "The monofilament will be wound around the resistive element which itself will be soldered to a PCB.  The designed steady state temperature of the resistive element should lie between the melting temperature of the solder and the glass transition temperature of the monofilament.  \n",
    "\n",
    "### Steady State Temperature\n",
    "In order to determine the steady state temperature of a resistive element we will use the **Stephan-Boltzmann Law** to describe the power flux in terms of temperature and emissivity.\n",
    "\n",
    "$$ j^* = \\epsilon \\sigma T^4 $$\n",
    "\n",
    "The power flux can also be represented as power dissipated over the resistive element's surface area.\n",
    "\n",
    "$$ j^* = \\frac{P}{A} $$\n",
    "\n",
    "The two can be related:\n",
    "\n",
    "$$ \\epsilon \\sigma T^4 = \\frac{P}{A_S} $$\n",
    "\n",
    "where $ P = \\frac{V^2}{R} = I^2 R $\n",
    "\n",
    "$$ \\epsilon \\sigma T^4 = \\frac{V^2}{RA_S} = \\frac{I^2 R}{A_S} $$\n",
    "\n",
    "and $ R = \\frac{\\rho l }{ A_C }$\n",
    "\n",
    "$$ \\epsilon \\sigma T^4 = \\frac{V^2 A_C}{\\rho l A_S} = \\frac{I^2 \\rho l}{A_C A_S} $$\n",
    "\n",
    "where $ A_C = \\pi r^2 $ and $ A_S = 2 \\pi r l $\n",
    "\n",
    "$$ \\epsilon \\sigma T^4 = \\frac{V^2 r}{2 \\rho l^2} = \\frac{I^2 \\rho}{2 \\pi^2 r^3} $$\n",
    "\n",
    "Rearranging the equation for temperature,\n",
    "\n",
    "$$ T = \\sqrt[4]{\\frac{V^2 r}{2 \\epsilon \\sigma \\rho l^2}} = \\sqrt[4]{\\frac{I^2 \\rho}{2 \\epsilon \\sigma \\pi^2 r^3}} $$\n",
    "\n",
    "With extreme fluctuations in the ambient temperature, the target steady state temperature of the resistive element must err towards higher values which will increase the risk of melting the solder.  However, in a micro-gravity environment the dynamics of the melted solder would be controlled by surface tension which ought to prevent spread of any conductive contamination.  \n",
    "\n",
    "Monofilament melts at around 250 degrees C.  Solder melts somewhere around 450 degrees C.  The ambient temperature will be somewhere between -50 and +150 degrees C.  This means that at a target temperature of 300 degrees C we will barely melt the monofilament in the coldest conditions and nearly melt the solder in the hotest conditions.  (*These values are super average and should not be used in any real calculations.*)   \n",
    "\n",
    "We will be using a bare LiPo battery cell with no voltage regulation.  However, over the course of a single experiment the supply voltage will not change appreciably. The resistive element of choice is nichrome wire.  The following nominal values are used for pre-experimental analysis:\n",
    "\n",
    "* Voltage: $ V = 3 $ to $ 4.2\\ V $\n",
    "* Resistivity: $ \\rho = 1.0 \\times 10^{-6} $ to $ 1.5 \\times 10^{-6}\\ \\Omega m $\n",
    "* Emissivity: $ \\epsilon = 0.65 $ to $ 0.79 $\n",
    "* Stephan-Boltzmann Constant: $ \\sigma = 5.67 \\times 10^{-8}\\ Wm^{-2}K^{-4} $\n",
    "\n",
    "Note that these values will stray from theory as the equations rely on a few key assumptions:\n",
    "- The voltage drop across the nichrome is constant over time\n",
    "- The resistivity of the nichrome does not change appreciably as the temperature rises\n",
    "- The length of the nichrome does not grow appreciably as the temperature rises\n",
    "\n",
    "These assumptions are not too egregious.  With a coefficient of linear expansion of 0.000017, a typical wire will not elongate more than 100 microns.  The resistivity increases by a mere 7.8% at the upper end of the material's recommended operating temperature (~1100 degrees C).  A proportionally small change in current (according to Ohm's law) is similarly negligible for the purposes of this model. (Material properties taken from [Omega](https://www.omega.com/temperature/pdf/NI80.pdf).)"
   ]
  },
  {
   "cell_type": "code",
   "execution_count": 1,
   "metadata": {},
   "outputs": [
    {
     "data": {
      "image/png": "[encoded data removed]",
      "text/plain": [
       "<matplotlib.figure.Figure at 0x2084669bfd0>"
      ]
     },
     "metadata": {},
     "output_type": "display_data"
    }
   ],
   "source": [
    "import math\n",
    "import numpy as np\n",
    "import matplotlib.pyplot as plt\n",
    "\n",
    "V = (3.5 + 4.2)/2\n",
    "rho = (1.0e-6 + 1.5e-6)/2\n",
    "epsilon = (0.65 + 0.79)/2\n",
    "sigma = 5.67e-8\n",
    "\n",
    "r = np.r_[0.160, 0.405, 0.611] / 1000 # Standard AWG Sizes (m)\n",
    "l = np.linspace(0.01, 0.04)\n",
    "\n",
    "for radius in r:\n",
    "    T = np.power(((V**2*radius*2)/(2*epsilon*sigma*rho*l**2)), 1/4) - 272.15\n",
    "    plt.plot(l, T, label = \"r = {} mm\".format(str(1000*radius)))\n",
    "\n",
    "plt.legend(loc='upper right', frameon=False)\n",
    "plt.title(\"Steady State Temperature of Nichrome Wire\")\n",
    "plt.xlabel(\"Length (m)\")\n",
    "plt.ylabel(\"Temperature (Degrees C)\")\n",
    "plt.show()"
   ]
  },
  {
   "cell_type": "markdown",
   "metadata": {},
   "source": [
    "**Figure 1**: Steady state temperature of a nichrome resistive element as a function of length and radius.\n",
    "\n",
    "These theoretical temperature values are far greater than the upper end of the operating range (~1100 degrees C) and even beyond the melting point of nichrome (~1400 degrees C).  This implies that the nichrome wire would burn out like a fuse.  This should not be a problem - if the resistive element reaches that high of a temperature then it will necessarily pass the glass transition temperature of the monofilament.  However, if the nichrome heated up at a sufficiently quick rate, then it might not transfer enough heat to cause a failure in the monofilament.  \n",
    "\n",
    "### Heat Rate\n",
    "\n",
    "Dr. Gerald Recktenwald did some basic theoretical analysis of the heat rate of nichrome wire.  His results are in a LaTeX document on the Google Drive.\n",
    "\n",
    "### Measurements\n",
    "\n",
    "Calculations for theoretical values are simple but they rely on the assumptions of a lumped parameter model.  Measuring the actual temperature of the resistive element is a meaningful exercise for this essential system.  \n",
    "\n",
    "The broader purpose of this experiment is to estimate the reliability of the burnwire system.  A successful burn occurs when the resistive element heats the monofilament to failure in a reasonable time and without using too much energy.  There are a number of parameters which we might measure:\n",
    "\n",
    "* The temperature of the resistive element.  By measuring we will change the value but this shouldn't be an issue; the element will heat at the same rate - it will simply be a lower temperature.  This can be achieved by thermally pasting a thermocouple onto an end of the resistive element.\n",
    "* The supply voltage provided by the battery.  An initial measurement will be needed in order to analyze the circuit - successive measurements will provide a look into how rapidly the supply voltage drops during an experiment.  \n",
    "* The current draw on the battery.  As the resistive element heats up it will undergo a nominal change in resistance.  As the battery drains its voltage will decrease.  Other real-world effects will change the amount of current that is actually being drawn from the battery and we will want to monitor this in order measure the total energy used.  This can be achieved by measuring the voltage drop across a Kelvin connection on the shunt resistor.\n",
    "* The time it takes to sever the monofilament.  A microcontroller should be timing the experiment and therefore needs a way to precisely stop the timer.  This can be achieved by using a metallic spring to close a circuit when it becomes unloaded, or by breaking an IR beam in a simple sensor.\n",
    "\n",
    "An Arduino will regulate the experimental setup.  It will switch the main circuit using a P-channel MOSFET (with an R_DS(on) below 10 milli-ohms) with a pullup resistor.  Sending a high GPIO signal will close the circuit - this could cause issues with accidental triggering when assembling the circuit, so an inline physical switch might be warranted.  \n",
    "\n",
    "![circuit.png](circuit.png)\n",
    "<div style=\"text-align: center\"><b>Figure 2</b>: A schematic of the experimental circuit.</div>\n",
    "\n",
    "*Note: A better experimental setup would include an op-amp to amplify the shunt resistor's signal to a broader range of the Arduino's 5 V input.*\n",
    "\n",
    "The shunt resistor, used to generate a voltage drop (which provides a measurement of the current), will affect the rest of the circuit.  With a minor voltage drop, it will decrease the voltage drop seen by the resistive element and consume some power.\n",
    "\n",
    "### Design of Experiment\n",
    "Three factors will be controlled in the experimental design:\n",
    "* Ambient Pressure\n",
    "* Nichrome Diameter\n",
    "* Monofilament Diameter"
   ]
  },
  {
   "cell_type": "code",
   "execution_count": 3,
   "metadata": {},
   "outputs": [
    {
     "name": "stdout",
     "output_type": "stream",
     "text": [
      "Factor                         -1       +1\n",
      "--------------------------  -----  -------\n",
      "Pressure (kPa)              16.67  101.325\n",
      "Monofilament Diameter (mm)   0.37    0.7\n",
      "Nichrome Diameter (mm)       0.16    0.644\n",
      "\n",
      "2 Levels, 8 Runs per Replicate\n"
     ]
    }
   ],
   "source": [
    "from tabulate import tabulate\n",
    "\n",
    "def factor_table(factors, levels, K, k):\n",
    "    headers = list(factors[0].keys())\n",
    "    table = []\n",
    "    for count, factor in enumerate(factors):\n",
    "        table.append(list(factors[count].values()))\n",
    "    print(tabulate(table, headers))\n",
    "    print(\"\\n{} Levels, {} Runs per Replicate\".format(K, runs))\n",
    "\n",
    "factors = [ \\\n",
    "{'Factor': 'Pressure (kPa)', '-1': 16.67, '+1': 101.325}, \\\n",
    "{'Factor': 'Monofilament Diameter (mm)', '-1': 0.37, '+1': 0.70}, \\\n",
    "{'Factor': 'Nichrome Diameter (mm)', '-1': 0.160, '+1': 0.644}]\n",
    "\n",
    "levels = list(factors[0].keys())[1:]\n",
    "K = len(levels)\n",
    "k = len(factors)\n",
    "runs = K**k\n",
    "\n",
    "headers = list(factors[0].keys())\n",
    "table = []\n",
    "for count, factor in enumerate(factors):\n",
    "    table.append(list(factors[count].values()))\n",
    "print(tabulate(table, headers))\n",
    "print(\"\\n{} Levels, {} Runs per Replicate\".format(K, runs))"
   ]
  },
  {
   "cell_type": "markdown",
   "metadata": {},
   "source": [
    "#### Box-Wilson Design\n",
    "We can add a center point to the design to account for any potential non-linear behavior.  Apparently we do this instead of a $ 3^k $ design because the number of runs per replicate quickly becomes unmanageable (and aliasing becomes difficult to identify).  See Eisenhauer's Lecture 6, Page 8 and 21 for details.\n",
    "\n",
    "We will most likely use a **Central Composite Faced** design but the code supports **Central Composite Circumscribed** designs as well."
   ]
  },
  {
   "cell_type": "code",
   "execution_count": 5,
   "metadata": {
    "scrolled": true
   },
   "outputs": [
    {
     "name": "stdout",
     "output_type": "stream",
     "text": [
      "Choose: ['CCF', 'CCC']\n",
      "\n",
      "CCF\n",
      "\n",
      "Factor                         -1       +1        c\n",
      "--------------------------  -----  -------  -------\n",
      "Pressure (kPa)              16.67  101.325  58.9975\n",
      "Monofilament Diameter (mm)   0.37    0.7     0.535\n",
      "Nichrome Diameter (mm)       0.16    0.644   0.402\n",
      "\n",
      "3 Levels, 27 Runs per Replicate\n"
     ]
    }
   ],
   "source": [
    "designs = [\"CCF\", \"CCC\"]\n",
    "\n",
    "while True:\n",
    "    experiment = input(\"Choose: {}\\n\\n\".format(str(designs)))\n",
    "    if experiment in designs: break\n",
    "    else: print(\"Try again...\")\n",
    "\n",
    "if experiment == \"CCC\": alpha = K**(k/4)\n",
    "    \n",
    "for factor in factors:\n",
    "    factor['c'] = (factor['+1'] + factor['-1']) / 2\n",
    "    if experiment == \"CCC\":\n",
    "        factor['-a'] = factor['c'] - alpha*(factor['c'] - factor['-1'])\n",
    "        factor['+a'] = factor['c'] + alpha*(factor['c'] - factor['-1'])\n",
    "    else:\n",
    "        factor.pop('-a', 0)\n",
    "        factor.pop('+a', 0)\n",
    "        \n",
    "levels = list(factors[0].keys())[1:]\n",
    "K = len(levels)\n",
    "runs = K**k\n",
    "\n",
    "print(\"\")\n",
    "\n",
    "factor_table(factors, levels, K, k)"
   ]
  },
  {
   "cell_type": "markdown",
   "metadata": {},
   "source": [
    "#### Design Matrix\n",
    "*Note that this generates a random run order each time it is called.  We may want to run these in standard order since two of the three factors (pressure and nichrome gauge) are going to be annoying to change.*"
   ]
  },
  {
   "cell_type": "code",
   "execution_count": 11,
   "metadata": {},
   "outputs": [
    {
     "name": "stdout",
     "output_type": "stream",
     "text": [
      " Standard Order    Run Order    Pressure     Monofilament Diameter     Nichrome Diameter\n",
      "----------------  -----------  -----------  ------------------------  --------------------\n",
      "       1               1           -1                  -1                      -1\n",
      "       2               3           -1                  -1                      +1\n",
      "       3              22           -1                  -1                      c\n",
      "       4              20           -1                  +1                      -1\n",
      "       5              26           -1                  +1                      +1\n",
      "       6               4           -1                  +1                      c\n",
      "       7              23           -1                  c                       -1\n",
      "       8              19           -1                  c                       +1\n",
      "       9              17           -1                  c                       c\n",
      "       10             18           +1                  -1                      -1\n",
      "       11              8           +1                  -1                      +1\n",
      "       12             27           +1                  -1                      c\n",
      "       13             15           +1                  +1                      -1\n",
      "       14             12           +1                  +1                      +1\n",
      "       15             11           +1                  +1                      c\n",
      "       16              7           +1                  c                       -1\n",
      "       17              9           +1                  c                       +1\n",
      "       18             25           +1                  c                       c\n",
      "       19             13            c                  -1                      -1\n",
      "       20             14            c                  -1                      +1\n",
      "       21             24            c                  -1                      c\n",
      "       22              5            c                  +1                      -1\n",
      "       23             16            c                  +1                      +1\n",
      "       24              6            c                  +1                      c\n",
      "       25             10            c                  c                       -1\n",
      "       26             21            c                  c                       +1\n",
      "       27              2            c                  c                       c\n"
     ]
    }
   ],
   "source": [
    "from itertools import product\n",
    "from random import shuffle\n",
    "\n",
    "points = list(product(levels, repeat = k))\n",
    "if runs != len(points): print(\"Something's Wrong!\")\n",
    "\n",
    "runs_ordered = list(range(1, runs + 1))\n",
    "runs_random = runs_ordered + []\n",
    "shuffle(runs_random)\n",
    "\n",
    "headers = ['Standard Order', 'Run Order']\n",
    "for factor in factors:\n",
    "    headers.append(list(factor.values())[0].split('(')[0])\n",
    "table = []\n",
    "for run in runs_ordered:\n",
    "    row = [run, runs_random[run - 1]]\n",
    "    for count, point in enumerate(points[run - 1]):\n",
    "        row.append(point)\n",
    "    table.append(row)\n",
    "\n",
    "print(tabulate(table, headers, numalign = 'center', stralign = 'center'))"
   ]
  },
  {
   "cell_type": "markdown",
   "metadata": {},
   "source": [
    "#### Assumptions\n",
    "* There is no interaction between monofilament tension and ambient pressure.\n",
    "* 24 AWG wire is theoretically 0.2047 mm^2 - we are assuming that this is close enough to the average value between 22 and 28 AWG (which would be 0.203 mm^2).\n",
    "* The resistive element is a blackbody radiator.  \n",
    "* There are no convective losses.\n",
    "* Conductive heat transfer between the resistive element and the monofilament is negligible - the monofilament does not require much energy to melt.\n",
    "* Resistivity does not change appreciably with temperature.  This is likely wrong and should be updated."
   ]
  },
  {
   "cell_type": "markdown",
   "metadata": {},
   "source": [
    "### Results and Discussion\n",
    "Due to various factors and limitations we ended up changing one of the factors in the experiment - we used 2, 2.5 and 3 ohm through-hole resistors instead of resistive nichrome wire.  \n",
    "\n",
    "The centerpoint design ended up being tossed out as well - we focused on a 2-level per factor design without looking at higher-order effects.  A full lab report and discussion can be found in a separate document."
   ]
  }
 ],
 "metadata": {
  "kernelspec": {
   "display_name": "Python 3",
   "language": "python",
   "name": "python3"
  },
  "language_info": {
   "codemirror_mode": {
    "name": "ipython",
    "version": 3
   },
   "file_extension": ".py",
   "mimetype": "text/x-python",
   "name": "python",
   "nbconvert_exporter": "python",
   "pygments_lexer": "ipython3",
   "version": "3.6.4"
  }
 },
 "nbformat": 4,
 "nbformat_minor": 2
}
